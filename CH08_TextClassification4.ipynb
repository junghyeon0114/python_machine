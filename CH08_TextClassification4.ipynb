{
  "nbformat": 4,
  "nbformat_minor": 0,
  "metadata": {
    "colab": {
      "provenance": [],
      "mount_file_id": "1x8NMFWlSmfEJTxlGxgkMYXwWiPSyEz21",
      "authorship_tag": "ABX9TyPB3KFgNO0DB0JDmQ1qknVF",
      "include_colab_link": true
    },
    "kernelspec": {
      "name": "python3",
      "display_name": "Python 3"
    },
    "language_info": {
      "name": "python"
    }
  },
  "cells": [
    {
      "cell_type": "markdown",
      "metadata": {
        "id": "view-in-github",
        "colab_type": "text"
      },
      "source": [
        "<a href=\"https://colab.research.google.com/github/junghyeon0114/python_machine/blob/main/CH8_6~9_machine.ipynb\" target=\"_parent\"><img src=\"https://colab.research.google.com/assets/colab-badge.svg\" alt=\"Open In Colab\"/></a>"
      ]
    },
    {
      "cell_type": "markdown",
      "source": [
        "pg. 512 ~ 516, 529 ~ 543"
      ],
      "metadata": {
        "id": "a59sDcnb6zso"
      }
    },
    {
      "cell_type": "markdown",
      "source": [
        "06 토픽 모델링 - 20 뉴스그룹\n",
        "\n",
        "토픽 모델링 : 문서 집합에 숨어 있는 주체를 찾아내는 것. 많은 양의 문서가 있을 때 사람이 문서를 다 읽고 핵심 주제를 찾는 것은 매우 많은 시간 소모 -> 머신러닝 기반의 토픽 모델링을 적용해 숨어 있는 중요 주제를 효과적으로 찾아낼 수 있음.\n",
        "\n",
        "- 자주 사용되는 기법 : LDA\n",
        "\n",
        "사이킷런은 LDA 기반의 토픽 모델링을 LatentDirichletAllocation 클래스로 제공. 사이킷런 초기 버전에는 LDA 토픽 모델링을 제공하지 않았으나 gensim과 같은 토픽 모델링 패키지가 인기를 끌면서 LDA를 사이킷런도 제공하게 됨."
      ],
      "metadata": {
        "id": "izLIU-Uk7G-S"
      }
    },
    {
      "cell_type": "code",
      "execution_count": 1,
      "metadata": {
        "id": "UKZheeIR6xpj"
      },
      "outputs": [],
      "source": [
        "from sklearn.datasets import fetch_20newsgroups\n",
        "from sklearn.feature_extraction.text import CountVectorizer\n",
        "from sklearn.decomposition import LatentDirichletAllocation"
      ]
    },
    {
      "cell_type": "code",
      "source": [
        "# 모토사이클, 야구, 그래픽스, 윈도우즈, 중동, 기독교, 전자공학, 의학 9개 주제를 추출\n",
        "cats = ['rec.motorcycles', 'rec.sport.baseball', 'comp.graphics', 'comp.windows.x', 'talk.politics.mideast', 'soc.religion.christian', 'sci.electronics', 'sci.med']\n",
        "\n",
        "# 위에서 cats 변수로 기재된 카테고리만 추출. featch_20newsgroups( ) 의 categories에 cats 입력\n",
        "news_df = fetch_20newsgroups(subset='all', remove = ('headers', 'footers', 'quotes'), categories=cats, random_state=0)\n",
        "\n",
        "# LDA는 count기반의 벡터화만 적용\n",
        "count_vect = CountVectorizer(max_df=0.95, max_features=1000, min_df=2, stop_words='english', ngram_range=(1,2))\n",
        "\n",
        "feat_vect = count_vect.fit_transform(news_df.data)\n",
        "print('CountVectorizer Shape:', feat_vect.shape)"
      ],
      "metadata": {
        "colab": {
          "base_uri": "https://localhost:8080/"
        },
        "id": "x5-2GcTH72oA",
        "outputId": "dfd356f9-540d-4a06-959c-d2cff6030ade"
      },
      "execution_count": 2,
      "outputs": [
        {
          "output_type": "stream",
          "name": "stdout",
          "text": [
            "CountVectorizer Shape: (7862, 1000)\n"
          ]
        }
      ]
    },
    {
      "cell_type": "code",
      "source": [
        "# 토픽의 개수를 위의 뉴스 그룹에서 추출한 주제와 동일한 8개로 정하기\n",
        "\n",
        "lda = LatentDirichletAllocation(n_components=8, random_state=0)\n",
        "lda.fit(feat_vect)"
      ],
      "metadata": {
        "colab": {
          "base_uri": "https://localhost:8080/",
          "height": 75
        },
        "id": "bti7PEkJ87UF",
        "outputId": "59afe10d-c4cb-47cf-f012-b502d4bd6e4a"
      },
      "execution_count": 3,
      "outputs": [
        {
          "output_type": "execute_result",
          "data": {
            "text/plain": [
              "LatentDirichletAllocation(n_components=8, random_state=0)"
            ],
            "text/html": [
              "<style>#sk-container-id-1 {color: black;background-color: white;}#sk-container-id-1 pre{padding: 0;}#sk-container-id-1 div.sk-toggleable {background-color: white;}#sk-container-id-1 label.sk-toggleable__label {cursor: pointer;display: block;width: 100%;margin-bottom: 0;padding: 0.3em;box-sizing: border-box;text-align: center;}#sk-container-id-1 label.sk-toggleable__label-arrow:before {content: \"▸\";float: left;margin-right: 0.25em;color: #696969;}#sk-container-id-1 label.sk-toggleable__label-arrow:hover:before {color: black;}#sk-container-id-1 div.sk-estimator:hover label.sk-toggleable__label-arrow:before {color: black;}#sk-container-id-1 div.sk-toggleable__content {max-height: 0;max-width: 0;overflow: hidden;text-align: left;background-color: #f0f8ff;}#sk-container-id-1 div.sk-toggleable__content pre {margin: 0.2em;color: black;border-radius: 0.25em;background-color: #f0f8ff;}#sk-container-id-1 input.sk-toggleable__control:checked~div.sk-toggleable__content {max-height: 200px;max-width: 100%;overflow: auto;}#sk-container-id-1 input.sk-toggleable__control:checked~label.sk-toggleable__label-arrow:before {content: \"▾\";}#sk-container-id-1 div.sk-estimator input.sk-toggleable__control:checked~label.sk-toggleable__label {background-color: #d4ebff;}#sk-container-id-1 div.sk-label input.sk-toggleable__control:checked~label.sk-toggleable__label {background-color: #d4ebff;}#sk-container-id-1 input.sk-hidden--visually {border: 0;clip: rect(1px 1px 1px 1px);clip: rect(1px, 1px, 1px, 1px);height: 1px;margin: -1px;overflow: hidden;padding: 0;position: absolute;width: 1px;}#sk-container-id-1 div.sk-estimator {font-family: monospace;background-color: #f0f8ff;border: 1px dotted black;border-radius: 0.25em;box-sizing: border-box;margin-bottom: 0.5em;}#sk-container-id-1 div.sk-estimator:hover {background-color: #d4ebff;}#sk-container-id-1 div.sk-parallel-item::after {content: \"\";width: 100%;border-bottom: 1px solid gray;flex-grow: 1;}#sk-container-id-1 div.sk-label:hover label.sk-toggleable__label {background-color: #d4ebff;}#sk-container-id-1 div.sk-serial::before {content: \"\";position: absolute;border-left: 1px solid gray;box-sizing: border-box;top: 0;bottom: 0;left: 50%;z-index: 0;}#sk-container-id-1 div.sk-serial {display: flex;flex-direction: column;align-items: center;background-color: white;padding-right: 0.2em;padding-left: 0.2em;position: relative;}#sk-container-id-1 div.sk-item {position: relative;z-index: 1;}#sk-container-id-1 div.sk-parallel {display: flex;align-items: stretch;justify-content: center;background-color: white;position: relative;}#sk-container-id-1 div.sk-item::before, #sk-container-id-1 div.sk-parallel-item::before {content: \"\";position: absolute;border-left: 1px solid gray;box-sizing: border-box;top: 0;bottom: 0;left: 50%;z-index: -1;}#sk-container-id-1 div.sk-parallel-item {display: flex;flex-direction: column;z-index: 1;position: relative;background-color: white;}#sk-container-id-1 div.sk-parallel-item:first-child::after {align-self: flex-end;width: 50%;}#sk-container-id-1 div.sk-parallel-item:last-child::after {align-self: flex-start;width: 50%;}#sk-container-id-1 div.sk-parallel-item:only-child::after {width: 0;}#sk-container-id-1 div.sk-dashed-wrapped {border: 1px dashed gray;margin: 0 0.4em 0.5em 0.4em;box-sizing: border-box;padding-bottom: 0.4em;background-color: white;}#sk-container-id-1 div.sk-label label {font-family: monospace;font-weight: bold;display: inline-block;line-height: 1.2em;}#sk-container-id-1 div.sk-label-container {text-align: center;}#sk-container-id-1 div.sk-container {/* jupyter's `normalize.less` sets `[hidden] { display: none; }` but bootstrap.min.css set `[hidden] { display: none !important; }` so we also need the `!important` here to be able to override the default hidden behavior on the sphinx rendered scikit-learn.org. See: https://github.com/scikit-learn/scikit-learn/issues/21755 */display: inline-block !important;position: relative;}#sk-container-id-1 div.sk-text-repr-fallback {display: none;}</style><div id=\"sk-container-id-1\" class=\"sk-top-container\"><div class=\"sk-text-repr-fallback\"><pre>LatentDirichletAllocation(n_components=8, random_state=0)</pre><b>In a Jupyter environment, please rerun this cell to show the HTML representation or trust the notebook. <br />On GitHub, the HTML representation is unable to render, please try loading this page with nbviewer.org.</b></div><div class=\"sk-container\" hidden><div class=\"sk-item\"><div class=\"sk-estimator sk-toggleable\"><input class=\"sk-toggleable__control sk-hidden--visually\" id=\"sk-estimator-id-1\" type=\"checkbox\" checked><label for=\"sk-estimator-id-1\" class=\"sk-toggleable__label sk-toggleable__label-arrow\">LatentDirichletAllocation</label><div class=\"sk-toggleable__content\"><pre>LatentDirichletAllocation(n_components=8, random_state=0)</pre></div></div></div></div></div>"
            ]
          },
          "metadata": {},
          "execution_count": 3
        }
      ]
    },
    {
      "cell_type": "code",
      "source": [
        "# components_의 형태와 속성값 확인\n",
        "\n",
        "print(lda.components_.shape)\n",
        "lda.components_"
      ],
      "metadata": {
        "colab": {
          "base_uri": "https://localhost:8080/"
        },
        "id": "woJgIRxY_bkY",
        "outputId": "a5080864-3e5a-4373-b342-3e63a8e76a0f"
      },
      "execution_count": 4,
      "outputs": [
        {
          "output_type": "stream",
          "name": "stdout",
          "text": [
            "(8, 1000)\n"
          ]
        },
        {
          "output_type": "execute_result",
          "data": {
            "text/plain": [
              "array([[3.60992018e+01, 1.35626798e+02, 2.15751867e+01, ...,\n",
              "        3.02911688e+01, 8.66830093e+01, 6.79285199e+01],\n",
              "       [1.25199920e-01, 1.44401815e+01, 1.25045596e-01, ...,\n",
              "        1.81506995e+02, 1.25097844e-01, 9.39593286e+01],\n",
              "       [3.34762663e+02, 1.25176265e-01, 1.46743299e+02, ...,\n",
              "        1.25105772e-01, 3.63689741e+01, 1.25025218e-01],\n",
              "       ...,\n",
              "       [3.60204965e+01, 2.08640688e+01, 4.29606813e+00, ...,\n",
              "        1.45056650e+01, 8.33854413e+00, 1.55690009e+01],\n",
              "       [1.25128711e-01, 1.25247756e-01, 1.25005143e-01, ...,\n",
              "        9.17278769e+01, 1.25177668e-01, 3.74575887e+01],\n",
              "       [5.49258690e+01, 4.47009532e+00, 9.88524814e+00, ...,\n",
              "        4.87048440e+01, 1.25034678e-01, 1.25074632e-01]])"
            ]
          },
          "metadata": {},
          "execution_count": 4
        }
      ]
    },
    {
      "cell_type": "code",
      "source": [
        "def display_topics(model, feature_names, no_top_words):\n",
        "  for topic_index, topic in enumerate(model.components_):\n",
        "    print('Topic #', topic_index)\n",
        "\n",
        "    # components_ array에서 가장 값이 큰 순으로 정렬했을 때, 그 값의 array 인덱스를 반환.\n",
        "    topic_word_indexes = topic.argsort()[::-1]\n",
        "    top_indexes=topic_word_indexes[:no_top_words]\n",
        "\n",
        "    # top_indexes 대상인 인덱스별로 feature_names에 해당하는 word feature 추출 후 joint으로 concat\n",
        "    feature_concat = ' '.join([feature_names[i] for i in top_indexes])\n",
        "    print(feature_concat)\n",
        "\n",
        "# CountVectorizer객체 내의 전체 word의 명칭을 get_features_names()를 통해 추출\n",
        "feature_names = count_vect.get_feature_names_out()\n",
        "\n",
        "# 토빅별 가장 연관도가 높은 word를 15개만 추출\n",
        "display_topics(lda, feature_names, 15)"
      ],
      "metadata": {
        "colab": {
          "base_uri": "https://localhost:8080/"
        },
        "id": "l0I0CHFn_i3T",
        "outputId": "149ba3e3-cae8-4e26-d44d-6940a7e307b1"
      },
      "execution_count": 5,
      "outputs": [
        {
          "output_type": "stream",
          "name": "stdout",
          "text": [
            "Topic # 0\n",
            "year 10 game medical health team 12 20 disease cancer 1993 games years patients good\n",
            "Topic # 1\n",
            "don just like know people said think time ve didn right going say ll way\n",
            "Topic # 2\n",
            "image file jpeg program gif images output format files color entry 00 use bit 03\n",
            "Topic # 3\n",
            "like know don think use does just good time book read information people used post\n",
            "Topic # 4\n",
            "armenian israel armenians jews turkish people israeli jewish government war dos dos turkey arab armenia 000\n",
            "Topic # 5\n",
            "edu com available graphics ftp data pub motif mail widget software mit information version sun\n",
            "Topic # 6\n",
            "god people jesus church believe christ does christian say think christians bible faith sin life\n",
            "Topic # 7\n",
            "use dos thanks windows using window does display help like problem server need know run\n"
          ]
        }
      ]
    },
    {
      "cell_type": "markdown",
      "source": [
        "**두 벡터 사잇각**\n",
        "\n",
        "두 벡터의 사잇각에 따라 상호 관계는 다음과 같이 유사하거나 관련이 없거나 아예 반대 관계가 될 수 있음.\n",
        "\n",
        "![image.png](data:image/png;base64,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)"
      ],
      "metadata": {
        "id": "lg6sZRp6FeD8"
      }
    },
    {
      "cell_type": "markdown",
      "source": [
        "![image.png](data:image/png;base64,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)"
      ],
      "metadata": {
        "id": "sQRIbPiLFd8d"
      }
    },
    {
      "cell_type": "code",
      "source": [
        "# 코사인 유사도 구하는 함수\n",
        "\n",
        "import numpy as np\n",
        "\n",
        "def cos_similarity(v1, v2):\n",
        "  dot_product = np.dot(v1, v2)\n",
        "  l2_norm = (np.sqrt(sum(np.square(v1))) * np.sqrt(sum(np.square(v2))))\n",
        "  similarity = dot_product / l2_norm\n",
        "\n",
        "  return similarity"
      ],
      "metadata": {
        "id": "rpt_UImYFVGi"
      },
      "execution_count": 6,
      "outputs": []
    },
    {
      "cell_type": "code",
      "source": [
        "# TF-IDF 벡터화된 행렬로 변환\n",
        "\n",
        "from sklearn.feature_extraction.text import TfidfVectorizer\n",
        "\n",
        "doc_list = ['if you take the blue pill, the story ends',\n",
        "            'if you take the red pill, you stay in Wonderland',\n",
        "            'if you take the red pill, I show you how deep the rabbit hole goes']\n",
        "\n",
        "tfidf_vect_simple = TfidfVectorizer()\n",
        "feature_vect_simple = tfidf_vect_simple.fit_transform(doc_list)\n",
        "print(feature_vect_simple.shape)"
      ],
      "metadata": {
        "colab": {
          "base_uri": "https://localhost:8080/"
        },
        "id": "NuCmJXN7F98N",
        "outputId": "851871a3-e702-403a-e398-09bbc19f477a"
      },
      "execution_count": 7,
      "outputs": [
        {
          "output_type": "stream",
          "name": "stdout",
          "text": [
            "(3, 18)\n"
          ]
        }
      ]
    },
    {
      "cell_type": "code",
      "source": [
        "# TFidfVectorizer로 transform()한 결과는 희소 행렬이므로 밀집 행렬로 변환.\n",
        "feature_vect_dense = feature_vect_simple.todense()\n",
        "\n",
        "# 첫 번째 문장과 두 번째 문장의 피처 벡터 추출\n",
        "vect1 = np.array(feature_vect_dense[0]).reshape(-1, )\n",
        "vect2 = np.array(feature_vect_dense[1]).reshape(-1, )\n",
        "\n",
        "# 첫 번째 문장과 두 번째 문장의 피처 벡터로 두 개 문장의 코사인 유사도 추출\n",
        "similarity_simple = cos_similarity(vect1, vect2)\n",
        "print('문장 1, 문장 2 Cosine 유사도: {0:.3f}'.format(similarity_simple))"
      ],
      "metadata": {
        "colab": {
          "base_uri": "https://localhost:8080/"
        },
        "id": "96DMyjTrGATJ",
        "outputId": "ed965aba-52f1-423a-e01b-4cb41ba28b17"
      },
      "execution_count": 8,
      "outputs": [
        {
          "output_type": "stream",
          "name": "stdout",
          "text": [
            "문장 1, 문장 2 Cosine 유사도: 0.402\n"
          ]
        }
      ]
    },
    {
      "cell_type": "code",
      "source": [
        "vect1 = np.array(feature_vect_dense[0]).reshape(-1, )\n",
        "vect3 = np.array(feature_vect_dense[2]).reshape(-1, )\n",
        "similarity_simple = cos_similarity(vect1, vect3)\n",
        "print('문장 1, 문장 3 Cosine 유사도: {0:.3f}'.format(similarity_simple))\n",
        "\n",
        "vect2 = np.array(feature_vect_dense[1]).reshape(-1, )\n",
        "vect3 = np.array(feature_vect_dense[2]).reshape(-1, )\n",
        "similarity_simple = cos_similarity(vect2, vect3)\n",
        "print('문장 2, 문장 3 Cosine 유사도: {0:.3f}'.format(similarity_simple))"
      ],
      "metadata": {
        "colab": {
          "base_uri": "https://localhost:8080/"
        },
        "id": "Frqu9dsQGqQX",
        "outputId": "3624706f-1b49-48bb-bec3-104345314d33"
      },
      "execution_count": 9,
      "outputs": [
        {
          "output_type": "stream",
          "name": "stdout",
          "text": [
            "문장 1, 문장 3 Cosine 유사도: 0.404\n",
            "문장 2, 문장 3 Cosine 유사도: 0.456\n"
          ]
        }
      ]
    },
    {
      "cell_type": "code",
      "source": [
        "from sklearn.metrics.pairwise import cosine_similarity\n",
        "\n",
        "similarity_simple_pair = cosine_similarity(feature_vect_simple[0], feature_vect_simple)\n",
        "print(similarity_simple_pair)"
      ],
      "metadata": {
        "colab": {
          "base_uri": "https://localhost:8080/"
        },
        "id": "iJGexd5ZH5Sb",
        "outputId": "6dfb6528-ed7d-4ae6-c476-e402e6df3e7e"
      },
      "execution_count": 10,
      "outputs": [
        {
          "output_type": "stream",
          "name": "stdout",
          "text": [
            "[[1.         0.40207758 0.40425045]]\n"
          ]
        }
      ]
    },
    {
      "cell_type": "code",
      "source": [
        "from sklearn.metrics.pairwise import cosine_similarity\n",
        "\n",
        "similarity_simple_pair = cosine_similarity(feature_vect_simple[0], feature_vect_simple[1:])\n",
        "print(similarity_simple_pair)"
      ],
      "metadata": {
        "colab": {
          "base_uri": "https://localhost:8080/"
        },
        "id": "b0XVcSKjKOu1",
        "outputId": "b2bc0e96-241d-4867-8a89-c341c15c2b05"
      },
      "execution_count": 11,
      "outputs": [
        {
          "output_type": "stream",
          "name": "stdout",
          "text": [
            "[[0.40207758 0.40425045]]\n"
          ]
        }
      ]
    },
    {
      "cell_type": "code",
      "source": [
        "# 모든 개별 문서에 쌍으로 코사인 유사도 값 계산\n",
        "\n",
        "similarity_simple_pair = cosine_similarity(feature_vect_simple, feature_vect_simple)\n",
        "print(similarity_simple_pair)\n",
        "print('shape:', similarity_simple_pair.shape)"
      ],
      "metadata": {
        "colab": {
          "base_uri": "https://localhost:8080/"
        },
        "id": "xUrEZmzwKTR2",
        "outputId": "377633d6-5ce0-42d7-8469-ac181f40a074"
      },
      "execution_count": 12,
      "outputs": [
        {
          "output_type": "stream",
          "name": "stdout",
          "text": [
            "[[1.         0.40207758 0.40425045]\n",
            " [0.40207758 1.         0.45647296]\n",
            " [0.40425045 0.45647296 1.        ]]\n",
            "shape: (3, 3)\n"
          ]
        }
      ]
    },
    {
      "cell_type": "markdown",
      "source": [
        "**Opinion Review 데이터 세트를 이용한 문서 유사도 측정**\n",
        "533"
      ],
      "metadata": {
        "id": "HFnUJP7aKgnC"
      }
    },
    {
      "cell_type": "code",
      "source": [
        "from nltk.stem import WordNetLemmatizer\n",
        "import nltk\n",
        "import string\n",
        "\n",
        "remove_punct_dict = dict((ord(punct), None) for punct in string.punctuation)\n",
        "lemmar = WordNetLemmatizer()\n",
        "\n",
        "def LemTokens(tokens):\n",
        "    return [lemmar.lemmatize(token) for token in tokens]\n",
        "\n",
        "def LemNormalize(text):\n",
        "    return LemTokens(nltk.word_tokenize(text.lower().translate(remove_punct_dict)))"
      ],
      "metadata": {
        "id": "7vviht5MR5Pi"
      },
      "execution_count": 22,
      "outputs": []
    },
    {
      "cell_type": "code",
      "source": [
        "import pandas as pd\n",
        "import glob ,os\n",
        "from sklearn.feature_extraction.text import TfidfVectorizer\n",
        "from sklearn.cluster import KMeans\n",
        "\n",
        "path = r'C:\\Users\\KwonChulmin\\PerfectGuide\\data\\OpinosisDataset1.0\\OpinosisDataset1.0\\topics'\n",
        "all_files = glob.glob(os.path.join(path, \"*.data\"))\n",
        "filename_list = []\n",
        "opinion_text = []\n",
        "\n",
        "for file_ in all_files:\n",
        "    df = pd.read_table(file_,index_col=None, header=0,encoding='latin1')\n",
        "    filename_ = file_.split('\\')[-1]\n",
        "    filename = filename_.split('.')[0]\n",
        "    filename_list.append(filename)\n",
        "    opinion_text.append(df.to_string())\n",
        "\n",
        "document_df = pd.DataFrame({'filename':filename_list, 'opinion_text':opinion_text})\n",
        "\n",
        "tfidf_vect = TfidfVectorizer(tokenizer=LemNormalize, stop_words='english' , \\\n",
        "                             ngram_range=(1,2), min_df=0.05, max_df=0.85 )\n",
        "feature_vect = tfidf_vect.fit_transform(document_df['opinion_text'])\n",
        "\n",
        "km_cluster = KMeans(n_clusters=3, max_iter=10000, random_state=0)\n",
        "km_cluster.fit(feature_vect)\n",
        "cluster_label = km_cluster.labels_\n",
        "cluster_centers = km_cluster.cluster_centers_\n",
        "document_df['cluster_label'] = cluster_label"
      ],
      "metadata": {
        "colab": {
          "base_uri": "https://localhost:8080/",
          "height": 148
        },
        "id": "2S9c5IcFR7Wm",
        "outputId": "d4589d8e-12fe-4018-eadb-0237e5f5fbd5"
      },
      "execution_count": 24,
      "outputs": [
        {
          "output_type": "error",
          "ename": "SyntaxError",
          "evalue": "ignored",
          "traceback": [
            "\u001b[0;36m  File \u001b[0;32m\"<ipython-input-24-f75f2ecc9d8d>\"\u001b[0;36m, line \u001b[0;32m13\u001b[0m\n\u001b[0;31m    filename_ = file_.split('\\')[-1]\u001b[0m\n\u001b[0m                            ^\u001b[0m\n\u001b[0;31mSyntaxError\u001b[0m\u001b[0;31m:\u001b[0m unterminated string literal (detected at line 13)\n"
          ]
        }
      ]
    },
    {
      "cell_type": "code",
      "source": [
        "from sklearn.metrics.pairwise import cosine_similarity\n",
        "\n",
        "# cluster_label = 1인 데이터는 호텔로 군집화된 데이터임. DataFrame에서 해당 인덱스를 추출\n",
        "hotel_indexes = document_df[document_df['cluster_label']==1].index\n",
        "print('호텔로 군집화 된 문서들의 DataFrame Index:', hotel_indexes)\n",
        "\n",
        "# 호텔로 군집화된 데이터 중 첫 번째 문서를 추출해 파일명 표시.\n",
        "comparison_docname = document_df.iloc[hotel_indexes[0]]['filename']\n",
        "print('##### 비교 기준 문서명 ', comparison_docname, ' 와 타 문서 유사도#####')\n",
        "\n",
        "''' document_df에서 추출한 Index 객체를 feature_vect로 입력해 호텔 군집화된 feature_vect 추출\n",
        "이를 이용해 호텔로 군집화된 문서 중 첫 번째 문서와 다른 문서 간의 코사인 유사도 측정.'''\n",
        "similarity_pair = cosine_similarity(feature_vect[hotel_indexes[0]], feature_vect[hotel_indexes])\n",
        "print(similarity_pair)"
      ],
      "metadata": {
        "id": "6q6YQGUxSFNm"
      },
      "execution_count": null,
      "outputs": []
    },
    {
      "cell_type": "code",
      "source": [
        "import seaborn as sns\n",
        "import numpy as np\n",
        "import matplotlib.pyplot as plt\n",
        "%matplotlib inline\n",
        "\n",
        "# 첫 번째 문서와 타 문서 간 유사도가 큰 순으로 정렬한 인덱스를 추출하되 자기 자신은은 제외\n",
        "sorted_index = similarity_pair.argsort()[:, ::-1]\n",
        "sorted_index = sorted_index[:, 1:]\n",
        "\n",
        "# 유사도 큰 순으로 hotel_index를 추출해 재정렬\n",
        "hotel_sorted_indexes = hotel_indexes[sorted_index.reshape(-1)]\n",
        "\n",
        "# 유사도가 큰 순으로 유사도 값을 재정렬하되 자기 자신은은 제외\n",
        "hotel_1_sim_value = np.sort(similarity_pair.reshape(-1))[::-1]\n",
        "hotel_1_sim_value = hotel_1_sim_value[1:]\n",
        "\n",
        "# 유사도가 큰 순으로 정렬된 인덱스와 유사도 값을 이용해 파일명과 유사도 값을 막대 그래프로 시각화\n",
        "hotel_1_sim_df = pd.DataFrame()\n",
        "hotel_1_sim_df['filename'] = document_df.iloc[hotel_sorted_indexes]['filename']\n",
        "hotel_1_sim_df['similarity'] = hotel_1_sim_value\n",
        "\n",
        "sns.barplot(x='similarity', y='filename', data=hotel_1_sim_df)\n",
        "plt.title(comparison_docname)"
      ],
      "metadata": {
        "id": "Gh268ogOSPqe"
      },
      "execution_count": null,
      "outputs": []
    },
    {
      "cell_type": "markdown",
      "source": [
        "# 09 한글 텍스트 처리 - 네이버 영화 평점 감성 분석\n",
        "\n",
        "**한글 NLP 처리의 어려움**\n",
        "\n",
        ": 띄어쓰기, 다양한 조사\n",
        "\n",
        "\n",
        "**KoNLPy 소개**\n",
        "파이썬의 대표적인 한글 형태소 패키지\n",
        "\n",
        "- 형태소의 사전적 의미 : 단어로서 의미를 가지는 최소 단위\n",
        "\n"
      ],
      "metadata": {
        "id": "-Fvz75tURtpa"
      }
    },
    {
      "cell_type": "markdown",
      "source": [
        "**데이터 로딩**\n",
        "\n"
      ],
      "metadata": {
        "id": "K98lNfd2SNcb"
      }
    },
    {
      "cell_type": "code",
      "source": [
        "import pandas as pd\n",
        "\n",
        "train_df=pd.read_csv('/content/drive/MyDrive/파이썬 머신러닝 데이터/ratings_train.txt', sep='\\t')\n",
        "train_df.head(3)"
      ],
      "metadata": {
        "colab": {
          "base_uri": "https://localhost:8080/",
          "height": 143
        },
        "id": "82EPNcHJSQaa",
        "outputId": "1d7e3449-9cce-4604-f919-105b2b0af2f1"
      },
      "execution_count": null,
      "outputs": [
        {
          "output_type": "execute_result",
          "data": {
            "text/plain": [
              "         id                           document  label\n",
              "0   9976970                아 더빙.. 진짜 짜증나네요 목소리      0\n",
              "1   3819312  흠...포스터보고 초딩영화줄....오버연기조차 가볍지 않구나      1\n",
              "2  10265843                  너무재밓었다그래서보는것을추천한다      0"
            ],
            "text/html": [
              "\n",
              "  <div id=\"df-b211c988-943a-4f28-9b91-5d9c83c43531\" class=\"colab-df-container\">\n",
              "    <div>\n",
              "<style scoped>\n",
              "    .dataframe tbody tr th:only-of-type {\n",
              "        vertical-align: middle;\n",
              "    }\n",
              "\n",
              "    .dataframe tbody tr th {\n",
              "        vertical-align: top;\n",
              "    }\n",
              "\n",
              "    .dataframe thead th {\n",
              "        text-align: right;\n",
              "    }\n",
              "</style>\n",
              "<table border=\"1\" class=\"dataframe\">\n",
              "  <thead>\n",
              "    <tr style=\"text-align: right;\">\n",
              "      <th></th>\n",
              "      <th>id</th>\n",
              "      <th>document</th>\n",
              "      <th>label</th>\n",
              "    </tr>\n",
              "  </thead>\n",
              "  <tbody>\n",
              "    <tr>\n",
              "      <th>0</th>\n",
              "      <td>9976970</td>\n",
              "      <td>아 더빙.. 진짜 짜증나네요 목소리</td>\n",
              "      <td>0</td>\n",
              "    </tr>\n",
              "    <tr>\n",
              "      <th>1</th>\n",
              "      <td>3819312</td>\n",
              "      <td>흠...포스터보고 초딩영화줄....오버연기조차 가볍지 않구나</td>\n",
              "      <td>1</td>\n",
              "    </tr>\n",
              "    <tr>\n",
              "      <th>2</th>\n",
              "      <td>10265843</td>\n",
              "      <td>너무재밓었다그래서보는것을추천한다</td>\n",
              "      <td>0</td>\n",
              "    </tr>\n",
              "  </tbody>\n",
              "</table>\n",
              "</div>\n",
              "    <div class=\"colab-df-buttons\">\n",
              "\n",
              "  <div class=\"colab-df-container\">\n",
              "    <button class=\"colab-df-convert\" onclick=\"convertToInteractive('df-b211c988-943a-4f28-9b91-5d9c83c43531')\"\n",
              "            title=\"Convert this dataframe to an interactive table.\"\n",
              "            style=\"display:none;\">\n",
              "\n",
              "  <svg xmlns=\"http://www.w3.org/2000/svg\" height=\"24px\" viewBox=\"0 -960 960 960\">\n",
              "    <path d=\"M120-120v-720h720v720H120Zm60-500h600v-160H180v160Zm220 220h160v-160H400v160Zm0 220h160v-160H400v160ZM180-400h160v-160H180v160Zm440 0h160v-160H620v160ZM180-180h160v-160H180v160Zm440 0h160v-160H620v160Z\"/>\n",
              "  </svg>\n",
              "    </button>\n",
              "\n",
              "  <style>\n",
              "    .colab-df-container {\n",
              "      display:flex;\n",
              "      gap: 12px;\n",
              "    }\n",
              "\n",
              "    .colab-df-convert {\n",
              "      background-color: #E8F0FE;\n",
              "      border: none;\n",
              "      border-radius: 50%;\n",
              "      cursor: pointer;\n",
              "      display: none;\n",
              "      fill: #1967D2;\n",
              "      height: 32px;\n",
              "      padding: 0 0 0 0;\n",
              "      width: 32px;\n",
              "    }\n",
              "\n",
              "    .colab-df-convert:hover {\n",
              "      background-color: #E2EBFA;\n",
              "      box-shadow: 0px 1px 2px rgba(60, 64, 67, 0.3), 0px 1px 3px 1px rgba(60, 64, 67, 0.15);\n",
              "      fill: #174EA6;\n",
              "    }\n",
              "\n",
              "    .colab-df-buttons div {\n",
              "      margin-bottom: 4px;\n",
              "    }\n",
              "\n",
              "    [theme=dark] .colab-df-convert {\n",
              "      background-color: #3B4455;\n",
              "      fill: #D2E3FC;\n",
              "    }\n",
              "\n",
              "    [theme=dark] .colab-df-convert:hover {\n",
              "      background-color: #434B5C;\n",
              "      box-shadow: 0px 1px 3px 1px rgba(0, 0, 0, 0.15);\n",
              "      filter: drop-shadow(0px 1px 2px rgba(0, 0, 0, 0.3));\n",
              "      fill: #FFFFFF;\n",
              "    }\n",
              "  </style>\n",
              "\n",
              "    <script>\n",
              "      const buttonEl =\n",
              "        document.querySelector('#df-b211c988-943a-4f28-9b91-5d9c83c43531 button.colab-df-convert');\n",
              "      buttonEl.style.display =\n",
              "        google.colab.kernel.accessAllowed ? 'block' : 'none';\n",
              "\n",
              "      async function convertToInteractive(key) {\n",
              "        const element = document.querySelector('#df-b211c988-943a-4f28-9b91-5d9c83c43531');\n",
              "        const dataTable =\n",
              "          await google.colab.kernel.invokeFunction('convertToInteractive',\n",
              "                                                    [key], {});\n",
              "        if (!dataTable) return;\n",
              "\n",
              "        const docLinkHtml = 'Like what you see? Visit the ' +\n",
              "          '<a target=\"_blank\" href=https://colab.research.google.com/notebooks/data_table.ipynb>data table notebook</a>'\n",
              "          + ' to learn more about interactive tables.';\n",
              "        element.innerHTML = '';\n",
              "        dataTable['output_type'] = 'display_data';\n",
              "        await google.colab.output.renderOutput(dataTable, element);\n",
              "        const docLink = document.createElement('div');\n",
              "        docLink.innerHTML = docLinkHtml;\n",
              "        element.appendChild(docLink);\n",
              "      }\n",
              "    </script>\n",
              "  </div>\n",
              "\n",
              "\n",
              "<div id=\"df-0bd899c9-318f-44a7-a50c-b2eef81a6c79\">\n",
              "  <button class=\"colab-df-quickchart\" onclick=\"quickchart('df-0bd899c9-318f-44a7-a50c-b2eef81a6c79')\"\n",
              "            title=\"Suggest charts.\"\n",
              "            style=\"display:none;\">\n",
              "\n",
              "<svg xmlns=\"http://www.w3.org/2000/svg\" height=\"24px\"viewBox=\"0 0 24 24\"\n",
              "     width=\"24px\">\n",
              "    <g>\n",
              "        <path d=\"M19 3H5c-1.1 0-2 .9-2 2v14c0 1.1.9 2 2 2h14c1.1 0 2-.9 2-2V5c0-1.1-.9-2-2-2zM9 17H7v-7h2v7zm4 0h-2V7h2v10zm4 0h-2v-4h2v4z\"/>\n",
              "    </g>\n",
              "</svg>\n",
              "  </button>\n",
              "\n",
              "<style>\n",
              "  .colab-df-quickchart {\n",
              "      --bg-color: #E8F0FE;\n",
              "      --fill-color: #1967D2;\n",
              "      --hover-bg-color: #E2EBFA;\n",
              "      --hover-fill-color: #174EA6;\n",
              "      --disabled-fill-color: #AAA;\n",
              "      --disabled-bg-color: #DDD;\n",
              "  }\n",
              "\n",
              "  [theme=dark] .colab-df-quickchart {\n",
              "      --bg-color: #3B4455;\n",
              "      --fill-color: #D2E3FC;\n",
              "      --hover-bg-color: #434B5C;\n",
              "      --hover-fill-color: #FFFFFF;\n",
              "      --disabled-bg-color: #3B4455;\n",
              "      --disabled-fill-color: #666;\n",
              "  }\n",
              "\n",
              "  .colab-df-quickchart {\n",
              "    background-color: var(--bg-color);\n",
              "    border: none;\n",
              "    border-radius: 50%;\n",
              "    cursor: pointer;\n",
              "    display: none;\n",
              "    fill: var(--fill-color);\n",
              "    height: 32px;\n",
              "    padding: 0;\n",
              "    width: 32px;\n",
              "  }\n",
              "\n",
              "  .colab-df-quickchart:hover {\n",
              "    background-color: var(--hover-bg-color);\n",
              "    box-shadow: 0 1px 2px rgba(60, 64, 67, 0.3), 0 1px 3px 1px rgba(60, 64, 67, 0.15);\n",
              "    fill: var(--button-hover-fill-color);\n",
              "  }\n",
              "\n",
              "  .colab-df-quickchart-complete:disabled,\n",
              "  .colab-df-quickchart-complete:disabled:hover {\n",
              "    background-color: var(--disabled-bg-color);\n",
              "    fill: var(--disabled-fill-color);\n",
              "    box-shadow: none;\n",
              "  }\n",
              "\n",
              "  .colab-df-spinner {\n",
              "    border: 2px solid var(--fill-color);\n",
              "    border-color: transparent;\n",
              "    border-bottom-color: var(--fill-color);\n",
              "    animation:\n",
              "      spin 1s steps(1) infinite;\n",
              "  }\n",
              "\n",
              "  @keyframes spin {\n",
              "    0% {\n",
              "      border-color: transparent;\n",
              "      border-bottom-color: var(--fill-color);\n",
              "      border-left-color: var(--fill-color);\n",
              "    }\n",
              "    20% {\n",
              "      border-color: transparent;\n",
              "      border-left-color: var(--fill-color);\n",
              "      border-top-color: var(--fill-color);\n",
              "    }\n",
              "    30% {\n",
              "      border-color: transparent;\n",
              "      border-left-color: var(--fill-color);\n",
              "      border-top-color: var(--fill-color);\n",
              "      border-right-color: var(--fill-color);\n",
              "    }\n",
              "    40% {\n",
              "      border-color: transparent;\n",
              "      border-right-color: var(--fill-color);\n",
              "      border-top-color: var(--fill-color);\n",
              "    }\n",
              "    60% {\n",
              "      border-color: transparent;\n",
              "      border-right-color: var(--fill-color);\n",
              "    }\n",
              "    80% {\n",
              "      border-color: transparent;\n",
              "      border-right-color: var(--fill-color);\n",
              "      border-bottom-color: var(--fill-color);\n",
              "    }\n",
              "    90% {\n",
              "      border-color: transparent;\n",
              "      border-bottom-color: var(--fill-color);\n",
              "    }\n",
              "  }\n",
              "</style>\n",
              "\n",
              "  <script>\n",
              "    async function quickchart(key) {\n",
              "      const quickchartButtonEl =\n",
              "        document.querySelector('#' + key + ' button');\n",
              "      quickchartButtonEl.disabled = true;  // To prevent multiple clicks.\n",
              "      quickchartButtonEl.classList.add('colab-df-spinner');\n",
              "      try {\n",
              "        const charts = await google.colab.kernel.invokeFunction(\n",
              "            'suggestCharts', [key], {});\n",
              "      } catch (error) {\n",
              "        console.error('Error during call to suggestCharts:', error);\n",
              "      }\n",
              "      quickchartButtonEl.classList.remove('colab-df-spinner');\n",
              "      quickchartButtonEl.classList.add('colab-df-quickchart-complete');\n",
              "    }\n",
              "    (() => {\n",
              "      let quickchartButtonEl =\n",
              "        document.querySelector('#df-0bd899c9-318f-44a7-a50c-b2eef81a6c79 button');\n",
              "      quickchartButtonEl.style.display =\n",
              "        google.colab.kernel.accessAllowed ? 'block' : 'none';\n",
              "    })();\n",
              "  </script>\n",
              "</div>\n",
              "    </div>\n",
              "  </div>\n"
            ]
          },
          "metadata": {},
          "execution_count": 53
        }
      ]
    },
    {
      "cell_type": "code",
      "source": [
        "train_df['label'].value_counts()"
      ],
      "metadata": {
        "colab": {
          "base_uri": "https://localhost:8080/"
        },
        "id": "rYyLDugyTSLn",
        "outputId": "5929e8bf-edf1-416d-c51c-933b9cbe16b7"
      },
      "execution_count": null,
      "outputs": [
        {
          "output_type": "execute_result",
          "data": {
            "text/plain": [
              "0    75173\n",
              "1    74827\n",
              "Name: label, dtype: int64"
            ]
          },
          "metadata": {},
          "execution_count": 54
        }
      ]
    },
    {
      "cell_type": "code",
      "source": [
        "import re\n",
        "\n",
        "train_df = train_df.fillna(' ')\n",
        "# 정규 표현식을 이용해 숫자를 공백으로 변경 (정규 표현식으로 \\d는 숫자를 의미)\n",
        "train_df['document'] = train_df['document'].apply(lambda x: re.sub(r'\\d+', ' ', x))\n",
        "\n",
        "# 테스트 데이터 세트를 로딩하고 동일하게 null 및 숫자를 공백으로 변환\n",
        "test_df = pd.read_csv('/content/drive/MyDrive/파이썬 머신러닝 데이터/ratings_test.txt', sep='\\t')\n",
        "test_df = test_df.fillna(' ')\n",
        "test_df['document'] = test_df['document'].apply(lambda x: re.sub(r'\\d+', ' ', x))\n",
        "\n",
        "# id 칼럼 삭제 수행\n",
        "train_df.drop('id', axis=1, inplace=True)\n",
        "test_df.drop('id', axis=1, inplace=True)"
      ],
      "metadata": {
        "id": "kbt6xndqTS50"
      },
      "execution_count": null,
      "outputs": []
    },
    {
      "cell_type": "code",
      "source": [
        "pip install konlpy"
      ],
      "metadata": {
        "colab": {
          "base_uri": "https://localhost:8080/"
        },
        "id": "PL_Yi5UFTU3W",
        "outputId": "bfc851bb-8ec1-402c-cf87-187d9e96592d"
      },
      "execution_count": null,
      "outputs": [
        {
          "output_type": "stream",
          "name": "stdout",
          "text": [
            "Collecting konlpy\n",
            "  Downloading konlpy-0.6.0-py2.py3-none-any.whl (19.4 MB)\n",
            "\u001b[2K     \u001b[90m━━━━━━━━━━━━━━━━━━━━━━━━━━━━━━━━━━━━━━━━\u001b[0m \u001b[32m19.4/19.4 MB\u001b[0m \u001b[31m60.4 MB/s\u001b[0m eta \u001b[36m0:00:00\u001b[0m\n",
            "\u001b[?25hCollecting JPype1>=0.7.0 (from konlpy)\n",
            "  Downloading JPype1-1.4.1-cp310-cp310-manylinux_2_12_x86_64.manylinux2010_x86_64.whl (465 kB)\n",
            "\u001b[2K     \u001b[90m━━━━━━━━━━━━━━━━━━━━━━━━━━━━━━━━━━━━━━━━\u001b[0m \u001b[32m465.3/465.3 kB\u001b[0m \u001b[31m40.6 MB/s\u001b[0m eta \u001b[36m0:00:00\u001b[0m\n",
            "\u001b[?25hRequirement already satisfied: lxml>=4.1.0 in /usr/local/lib/python3.10/dist-packages (from konlpy) (4.9.3)\n",
            "Requirement already satisfied: numpy>=1.6 in /usr/local/lib/python3.10/dist-packages (from konlpy) (1.23.5)\n",
            "Requirement already satisfied: packaging in /usr/local/lib/python3.10/dist-packages (from JPype1>=0.7.0->konlpy) (23.2)\n",
            "Installing collected packages: JPype1, konlpy\n",
            "Successfully installed JPype1-1.4.1 konlpy-0.6.0\n"
          ]
        }
      ]
    },
    {
      "cell_type": "code",
      "source": [
        "# twitter 객체의 morphs() 메서드를 이용하면 입력 인자로 들어온 문장을 형태로 단어 형태로 토큰화해 list 객체로 반환\n",
        "from konlpy.tag import Twitter\n",
        "\n",
        "twitter = Twitter()\n",
        "def tw_tokenizer(text):\n",
        "  # 입력 인자로 들어온 텍스트를 형태소 단어로 토큰화해 리스트 형태로 반환\n",
        "  tokens_ko = twitter.morphs(text)\n",
        "  return tokens_ko"
      ],
      "metadata": {
        "id": "MLsy0QFMTW37"
      },
      "execution_count": null,
      "outputs": []
    },
    {
      "cell_type": "code",
      "source": [
        "from sklearn.feature_extraction.text import TfidfVectorizer\n",
        "from sklearn.linear_model import LogisticRegression\n",
        "from sklearn.model_selection import GridSearchCV\n",
        "\n",
        "# twitter 객체의 morphs() 객체를 이용한 tokenizer 사용. ngram_range=(1,2)\n",
        "tfidf_vect = TfidfVectorizer(tokenizer=tw_tokenizer, ngram_range=(1,2), min_df=3, max_df=0.9)\n",
        "tfidf_vect.fit(train_df['document'])\n",
        "tfidf_matrix_train = tfidf_vect.transform(train_df['document'])"
      ],
      "metadata": {
        "colab": {
          "base_uri": "https://localhost:8080/"
        },
        "id": "Stlq0XqVTYD8",
        "outputId": "ef54a846-a877-4a14-b81d-faf10a178fba"
      },
      "execution_count": null,
      "outputs": [
        {
          "output_type": "stream",
          "name": "stderr",
          "text": [
            "/usr/local/lib/python3.10/dist-packages/sklearn/feature_extraction/text.py:528: UserWarning: The parameter 'token_pattern' will not be used since 'tokenizer' is not None'\n",
            "  warnings.warn(\n"
          ]
        }
      ]
    },
    {
      "cell_type": "code",
      "source": [
        "# 로지스틱 회귀를 이용해 감성 분석 분류 수행\n",
        "lg_clf = LogisticRegression(random_state=0)\n",
        "\n",
        "# 파라미터 C의 최적화를 위해 GridSearchCV 이용\n",
        "params = {'C':[1, 3.5, 4.5, 5.5, 10]}\n",
        "\n",
        "grid_cv = GridSearchCV(lg_clf, param_grid=params, cv=3, scoring='accuracy', verbose=1)\n",
        "grid_cv.fit(tfidf_matrix_train, train_df['label'])\n",
        "print(grid_cv.best_params_, round(grid_cv.best_score_, 4))"
      ],
      "metadata": {
        "colab": {
          "base_uri": "https://localhost:8080/"
        },
        "id": "jUy1Xn9oTZKc",
        "outputId": "30e274e2-2516-4117-c320-d5fc45e672ef"
      },
      "execution_count": null,
      "outputs": [
        {
          "output_type": "stream",
          "name": "stdout",
          "text": [
            "Fitting 3 folds for each of 5 candidates, totalling 15 fits\n"
          ]
        },
        {
          "output_type": "stream",
          "name": "stderr",
          "text": [
            "/usr/local/lib/python3.10/dist-packages/sklearn/linear_model/_logistic.py:458: ConvergenceWarning: lbfgs failed to converge (status=1):\n",
            "STOP: TOTAL NO. of ITERATIONS REACHED LIMIT.\n",
            "\n",
            "Increase the number of iterations (max_iter) or scale the data as shown in:\n",
            "    https://scikit-learn.org/stable/modules/preprocessing.html\n",
            "Please also refer to the documentation for alternative solver options:\n",
            "    https://scikit-learn.org/stable/modules/linear_model.html#logistic-regression\n",
            "  n_iter_i = _check_optimize_result(\n",
            "/usr/local/lib/python3.10/dist-packages/sklearn/linear_model/_logistic.py:458: ConvergenceWarning: lbfgs failed to converge (status=1):\n",
            "STOP: TOTAL NO. of ITERATIONS REACHED LIMIT.\n",
            "\n",
            "Increase the number of iterations (max_iter) or scale the data as shown in:\n",
            "    https://scikit-learn.org/stable/modules/preprocessing.html\n",
            "Please also refer to the documentation for alternative solver options:\n",
            "    https://scikit-learn.org/stable/modules/linear_model.html#logistic-regression\n",
            "  n_iter_i = _check_optimize_result(\n",
            "/usr/local/lib/python3.10/dist-packages/sklearn/linear_model/_logistic.py:458: ConvergenceWarning: lbfgs failed to converge (status=1):\n",
            "STOP: TOTAL NO. of ITERATIONS REACHED LIMIT.\n",
            "\n",
            "Increase the number of iterations (max_iter) or scale the data as shown in:\n",
            "    https://scikit-learn.org/stable/modules/preprocessing.html\n",
            "Please also refer to the documentation for alternative solver options:\n",
            "    https://scikit-learn.org/stable/modules/linear_model.html#logistic-regression\n",
            "  n_iter_i = _check_optimize_result(\n",
            "/usr/local/lib/python3.10/dist-packages/sklearn/linear_model/_logistic.py:458: ConvergenceWarning: lbfgs failed to converge (status=1):\n",
            "STOP: TOTAL NO. of ITERATIONS REACHED LIMIT.\n",
            "\n",
            "Increase the number of iterations (max_iter) or scale the data as shown in:\n",
            "    https://scikit-learn.org/stable/modules/preprocessing.html\n",
            "Please also refer to the documentation for alternative solver options:\n",
            "    https://scikit-learn.org/stable/modules/linear_model.html#logistic-regression\n",
            "  n_iter_i = _check_optimize_result(\n",
            "/usr/local/lib/python3.10/dist-packages/sklearn/linear_model/_logistic.py:458: ConvergenceWarning: lbfgs failed to converge (status=1):\n",
            "STOP: TOTAL NO. of ITERATIONS REACHED LIMIT.\n",
            "\n",
            "Increase the number of iterations (max_iter) or scale the data as shown in:\n",
            "    https://scikit-learn.org/stable/modules/preprocessing.html\n",
            "Please also refer to the documentation for alternative solver options:\n",
            "    https://scikit-learn.org/stable/modules/linear_model.html#logistic-regression\n",
            "  n_iter_i = _check_optimize_result(\n",
            "/usr/local/lib/python3.10/dist-packages/sklearn/linear_model/_logistic.py:458: ConvergenceWarning: lbfgs failed to converge (status=1):\n",
            "STOP: TOTAL NO. of ITERATIONS REACHED LIMIT.\n",
            "\n",
            "Increase the number of iterations (max_iter) or scale the data as shown in:\n",
            "    https://scikit-learn.org/stable/modules/preprocessing.html\n",
            "Please also refer to the documentation for alternative solver options:\n",
            "    https://scikit-learn.org/stable/modules/linear_model.html#logistic-regression\n",
            "  n_iter_i = _check_optimize_result(\n",
            "/usr/local/lib/python3.10/dist-packages/sklearn/linear_model/_logistic.py:458: ConvergenceWarning: lbfgs failed to converge (status=1):\n",
            "STOP: TOTAL NO. of ITERATIONS REACHED LIMIT.\n",
            "\n",
            "Increase the number of iterations (max_iter) or scale the data as shown in:\n",
            "    https://scikit-learn.org/stable/modules/preprocessing.html\n",
            "Please also refer to the documentation for alternative solver options:\n",
            "    https://scikit-learn.org/stable/modules/linear_model.html#logistic-regression\n",
            "  n_iter_i = _check_optimize_result(\n",
            "/usr/local/lib/python3.10/dist-packages/sklearn/linear_model/_logistic.py:458: ConvergenceWarning: lbfgs failed to converge (status=1):\n",
            "STOP: TOTAL NO. of ITERATIONS REACHED LIMIT.\n",
            "\n",
            "Increase the number of iterations (max_iter) or scale the data as shown in:\n",
            "    https://scikit-learn.org/stable/modules/preprocessing.html\n",
            "Please also refer to the documentation for alternative solver options:\n",
            "    https://scikit-learn.org/stable/modules/linear_model.html#logistic-regression\n",
            "  n_iter_i = _check_optimize_result(\n",
            "/usr/local/lib/python3.10/dist-packages/sklearn/linear_model/_logistic.py:458: ConvergenceWarning: lbfgs failed to converge (status=1):\n",
            "STOP: TOTAL NO. of ITERATIONS REACHED LIMIT.\n",
            "\n",
            "Increase the number of iterations (max_iter) or scale the data as shown in:\n",
            "    https://scikit-learn.org/stable/modules/preprocessing.html\n",
            "Please also refer to the documentation for alternative solver options:\n",
            "    https://scikit-learn.org/stable/modules/linear_model.html#logistic-regression\n",
            "  n_iter_i = _check_optimize_result(\n",
            "/usr/local/lib/python3.10/dist-packages/sklearn/linear_model/_logistic.py:458: ConvergenceWarning: lbfgs failed to converge (status=1):\n",
            "STOP: TOTAL NO. of ITERATIONS REACHED LIMIT.\n",
            "\n",
            "Increase the number of iterations (max_iter) or scale the data as shown in:\n",
            "    https://scikit-learn.org/stable/modules/preprocessing.html\n",
            "Please also refer to the documentation for alternative solver options:\n",
            "    https://scikit-learn.org/stable/modules/linear_model.html#logistic-regression\n",
            "  n_iter_i = _check_optimize_result(\n",
            "/usr/local/lib/python3.10/dist-packages/sklearn/linear_model/_logistic.py:458: ConvergenceWarning: lbfgs failed to converge (status=1):\n",
            "STOP: TOTAL NO. of ITERATIONS REACHED LIMIT.\n",
            "\n",
            "Increase the number of iterations (max_iter) or scale the data as shown in:\n",
            "    https://scikit-learn.org/stable/modules/preprocessing.html\n",
            "Please also refer to the documentation for alternative solver options:\n",
            "    https://scikit-learn.org/stable/modules/linear_model.html#logistic-regression\n",
            "  n_iter_i = _check_optimize_result(\n",
            "/usr/local/lib/python3.10/dist-packages/sklearn/linear_model/_logistic.py:458: ConvergenceWarning: lbfgs failed to converge (status=1):\n",
            "STOP: TOTAL NO. of ITERATIONS REACHED LIMIT.\n",
            "\n",
            "Increase the number of iterations (max_iter) or scale the data as shown in:\n",
            "    https://scikit-learn.org/stable/modules/preprocessing.html\n",
            "Please also refer to the documentation for alternative solver options:\n",
            "    https://scikit-learn.org/stable/modules/linear_model.html#logistic-regression\n",
            "  n_iter_i = _check_optimize_result(\n"
          ]
        },
        {
          "output_type": "stream",
          "name": "stdout",
          "text": [
            "{'C': 3.5} 0.8593\n"
          ]
        },
        {
          "output_type": "stream",
          "name": "stderr",
          "text": [
            "/usr/local/lib/python3.10/dist-packages/sklearn/linear_model/_logistic.py:458: ConvergenceWarning: lbfgs failed to converge (status=1):\n",
            "STOP: TOTAL NO. of ITERATIONS REACHED LIMIT.\n",
            "\n",
            "Increase the number of iterations (max_iter) or scale the data as shown in:\n",
            "    https://scikit-learn.org/stable/modules/preprocessing.html\n",
            "Please also refer to the documentation for alternative solver options:\n",
            "    https://scikit-learn.org/stable/modules/linear_model.html#logistic-regression\n",
            "  n_iter_i = _check_optimize_result(\n"
          ]
        }
      ]
    },
    {
      "cell_type": "code",
      "source": [
        "from sklearn.metrics import accuracy_score\n",
        "\n",
        "# 학습 데이터를 적용한 TfidfVectorizer를 이용해 테스트 데이터를 TF-IDF 값으로 피처 변환함\n",
        "tfidf_matrix_test = tfidf_vect.transform(test_df['document'])\n",
        "\n",
        "# classifier는 gridsearchcv에서 최적 파라미터로 학습된 calssifier를 그대로 이용\n",
        "best_estimator = grid_cv.best_estimator_\n",
        "preds = best_estimator.predict(tfidf_matrix_test)\n",
        "\n",
        "print('Logistic Regression 정확도:', accuracy_score(test_df['label'], preds))"
      ],
      "metadata": {
        "colab": {
          "base_uri": "https://localhost:8080/"
        },
        "id": "_XGFPMYDTaly",
        "outputId": "32755974-611f-4629-a4b8-d17b6109a6f9"
      },
      "execution_count": null,
      "outputs": [
        {
          "output_type": "stream",
          "name": "stdout",
          "text": [
            "Logistic Regression 정확도: 0.86186\n"
          ]
        }
      ]
    }
  ]
}
